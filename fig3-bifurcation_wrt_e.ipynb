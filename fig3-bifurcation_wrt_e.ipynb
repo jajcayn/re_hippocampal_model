{
 "cells": [
  {
   "cell_type": "code",
   "execution_count": 1,
   "id": "expensive-jason",
   "metadata": {},
   "outputs": [],
   "source": [
    "%matplotlib inline\n",
    "\n",
    "from functools import partial\n",
    "from itertools import chain\n",
    "\n",
    "import matplotlib.pyplot as plt\n",
    "import numpy as np\n",
    "import seaborn as sns\n",
    "import xarray as xr\n",
    "from neurolib.models.multimodel import MultiModel\n",
    "from neurolib.utils.stimulus import ZeroInput\n",
    "\n",
    "from hippocampus import HippocampalCA3Node\n",
    "from utils import run_in_parallel\n",
    "\n",
    "plt.style.use(\"default_light\")"
   ]
  },
  {
   "cell_type": "code",
   "execution_count": 38,
   "id": "recreational-serial",
   "metadata": {},
   "outputs": [],
   "source": [
    "def compute_wrt_e(e, init_conds):\n",
    "    results = []\n",
    "    for init_c in init_conds:\n",
    "        hc = HippocampalCA3Node(aswr_mass_type=\"constant_depression\")\n",
    "        for mass in hc:\n",
    "            mass._noise_input = [ZeroInput()]\n",
    "        m = MultiModel.init_node(hc)\n",
    "        if init_c == 0:\n",
    "            # SWR state\n",
    "            m.model_instance.initial_state = np.array([0.044, 0.092, 0.0])\n",
    "        else:\n",
    "            # non-SWR state\n",
    "            m.model_instance.initial_state = np.array([0.0, 0.0, 0.0125])\n",
    "        m.params[\"backend\"] = \"numba\"\n",
    "        m.params[\"duration\"] = 2000\n",
    "        m.params[\"sampling_dt\"] = 1.0\n",
    "        m.params[\"dt\"] = 0.05\n",
    "        m.params[\"*aSWR*e|noise\"] = e\n",
    "        m.run()\n",
    "        arr = xr.DataArray(\n",
    "            np.array(\n",
    "                [\n",
    "                    float(m.r_mean_EXC.T[-1]),\n",
    "                    float(m.r_mean_INH.T[-1]),\n",
    "                    float(m.r_mean_aSWR.T[-1]),\n",
    "                ]\n",
    "            ),\n",
    "            dims=[\"node\"],\n",
    "            coords={\"node\": [\"P\", \"B\", \"A\"]},\n",
    "        ).assign_coords({\"e\": e, \"init_c\": init_c})\n",
    "        results.append(arr)\n",
    "\n",
    "    return results"
   ]
  },
  {
   "cell_type": "code",
   "execution_count": 39,
   "id": "contemporary-assumption",
   "metadata": {},
   "outputs": [
    {
     "name": "stderr",
     "output_type": "stream",
     "text": [
      "100%|██████████| 151/151 [00:46<00:00,  3.25it/s]\n"
     ]
    }
   ],
   "source": [
    "es = np.linspace(0.0, 1.0, 151)\n",
    "init_conds = [0.0, 1.0]\n",
    "\n",
    "res = run_in_parallel(\n",
    "    partial(compute_wrt_e, init_conds=init_conds), es, workers=6\n",
    ")\n",
    "\n",
    "bif_wrt_e = (\n",
    "    xr.concat(list(chain.from_iterable(res)), dim=\"new\")\n",
    "    .set_index(new=[\"e\", \"init_c\"])\n",
    "    .unstack(\"new\")\n",
    ")"
   ]
  },
  {
   "cell_type": "code",
   "execution_count": 40,
   "id": "unsigned-liability",
   "metadata": {},
   "outputs": [
    {
     "data": {
      "image/png": "[encoded data removed]",
      "text/plain": [
       "<Figure size 432x720 with 3 Axes>"
      ]
     },
     "metadata": {
      "needs_background": "light"
     },
     "output_type": "display_data"
    }
   ],
   "source": [
    "fig, axs = plt.subplots(ncols=1, nrows=3, figsize=(6, 10), sharex=True)\n",
    "colors = [\"C0\", \"C1\", \"C5\"]\n",
    "maxs = [0.07, 0.12, 0.015]\n",
    "\n",
    "for i, var in enumerate(bif_wrt_e[\"node\"]):\n",
    "    axs[i].plot(\n",
    "        es, bif_wrt_e.sel({\"node\": var}).values, \"o\", color=colors[i], markersize=4\n",
    "    )\n",
    "    axs[i].set_ylim([-0.002, maxs[i]])\n",
    "    axs[i].set_ylabel(f\"{var.values} [kHz]\")\n",
    "    axs[i].axvline(0.4, linestyle=\"--\", color=\"#555555\")\n",
    "    axs[i].axvline(0.5, linestyle=\"--\", color=\"#555555\")\n",
    "    sns.despine(ax=axs[i])\n",
    "axs[-1].set_xlabel(\"e\")\n",
    "plt.savefig(\"../figs/bifurcation_wrt_e.pdf\", transparent=True, bbox_inches=\"tight\")"
   ]
  },
  {
   "cell_type": "code",
   "execution_count": null,
   "id": "tough-living",
   "metadata": {},
   "outputs": [],
   "source": []
  }
 ],
 "metadata": {
  "kernelspec": {
   "display_name": "Python 3",
   "language": "python",
   "name": "python3"
  },
  "language_info": {
   "codemirror_mode": {
    "name": "ipython",
    "version": 3
   },
   "file_extension": ".py",
   "mimetype": "text/x-python",
   "name": "python",
   "nbconvert_exporter": "python",
   "pygments_lexer": "ipython3",
   "version": "3.7.10"
  }
 },
 "nbformat": 4,
 "nbformat_minor": 5
}
