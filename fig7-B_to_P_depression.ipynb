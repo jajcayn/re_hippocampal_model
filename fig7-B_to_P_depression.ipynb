{
 "cells": [
  {
   "cell_type": "code",
   "execution_count": 1,
   "id": "juvenile-commander",
   "metadata": {},
   "outputs": [],
   "source": [
    "%matplotlib inline\n",
    "\n",
    "import matplotlib.gridspec as gridspec\n",
    "import matplotlib.pyplot as plt\n",
    "import numpy as np\n",
    "import seaborn as sns\n",
    "from chspy import join\n",
    "from neurolib.models.multimodel import MultiModel\n",
    "from neurolib.utils.stimulus import StepInput, ZeroInput\n",
    "from scipy.optimize import curve_fit\n",
    "from scipy.signal import butter, filtfilt, find_peaks, peak_widths\n",
    "from scipy.stats import pearsonr\n",
    "\n",
    "from hippocampus import HIPPOCAMPUS_NODE_DEFAULT_CONNECTIVITY, HippocampalCA3Node\n",
    "from model_input import PeriodicRandomSquareInput\n",
    "from utils import AnchoredHScaleBar\n",
    "\n",
    "plt.style.use(\"default_light\")"
   ]
  },
  {
   "cell_type": "code",
   "execution_count": 7,
   "id": "together-stockholm",
   "metadata": {},
   "outputs": [],
   "source": [
    "backend = \"numba\"\n",
    "duration = 10\n",
    "DT = 0.05\n",
    "SAMPLING_DT = 0.1\n",
    "\n",
    "hc = HippocampalCA3Node(aswr_mass_type=\"variable_depression\", b_p_depression=True)\n",
    "m = MultiModel.init_node(hc)\n",
    "m.model_instance.initial_state = np.array([0.0001, 0.003, 0.012, 0.649])\n",
    "m.params[\"backend\"] = backend\n",
    "m.params[\"duration\"] = duration * 1e3\n",
    "m.params[\"dt\"] = DT\n",
    "m.params[\"sampling_dt\"] = SAMPLING_DT\n",
    "m.run()"
   ]
  }
 ],
 "metadata": {
  "kernelspec": {
   "display_name": "Python 3",
   "language": "python",
   "name": "python3"
  },
  "language_info": {
   "codemirror_mode": {
    "name": "ipython",
    "version": 3
   },
   "file_extension": ".py",
   "mimetype": "text/x-python",
   "name": "python",
   "nbconvert_exporter": "python",
   "pygments_lexer": "ipython3",
   "version": "3.7.10"
  }
 },
 "nbformat": 4,
 "nbformat_minor": 5
}
